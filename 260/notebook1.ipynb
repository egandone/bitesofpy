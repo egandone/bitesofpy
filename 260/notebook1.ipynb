{
 "nbformat": 4,
 "nbformat_minor": 2,
 "metadata": {
  "language_info": {
   "name": "python",
   "codemirror_mode": {
    "name": "ipython",
    "version": 3
   },
   "version": "3.7.6-final"
  },
  "orig_nbformat": 2,
  "file_extension": ".py",
  "mimetype": "text/x-python",
  "name": "python",
  "npconvert_exporter": "python",
  "pygments_lexer": "ipython3",
  "version": 3,
  "kernelspec": {
   "name": "python37664bitca4a002999154c3482245ddf5ca2e5a3",
   "display_name": "Python 3.7.6 64-bit"
  }
 },
 "cells": [
  {
   "cell_type": "code",
   "execution_count": 1,
   "metadata": {},
   "outputs": [],
   "source": [
    "import pandas as pd"
   ]
  },
  {
   "cell_type": "code",
   "execution_count": 2,
   "metadata": {},
   "outputs": [
    {
     "name": "stdout",
     "output_type": "stream",
     "text": "Hello, World\n"
    }
   ],
   "source": [
    "print('Hello, World')"
   ]
  },
  {
   "cell_type": "code",
   "execution_count": 3,
   "metadata": {},
   "outputs": [],
   "source": [
    "data = {\n",
    "    'apples': [3, 2, 0, 1], \n",
    "    'oranges': [0, 3, 7, 2]\n",
    "}"
   ]
  },
  {
   "cell_type": "code",
   "execution_count": 4,
   "metadata": {},
   "outputs": [
    {
     "data": {
      "text/html": "<div>\n<style scoped>\n    .dataframe tbody tr th:only-of-type {\n        vertical-align: middle;\n    }\n\n    .dataframe tbody tr th {\n        vertical-align: top;\n    }\n\n    .dataframe thead th {\n        text-align: right;\n    }\n</style>\n<table border=\"1\" class=\"dataframe\">\n  <thead>\n    <tr style=\"text-align: right;\">\n      <th></th>\n      <th>apples</th>\n      <th>oranges</th>\n    </tr>\n  </thead>\n  <tbody>\n    <tr>\n      <th>0</th>\n      <td>3</td>\n      <td>0</td>\n    </tr>\n    <tr>\n      <th>1</th>\n      <td>2</td>\n      <td>3</td>\n    </tr>\n    <tr>\n      <th>2</th>\n      <td>0</td>\n      <td>7</td>\n    </tr>\n    <tr>\n      <th>3</th>\n      <td>1</td>\n      <td>2</td>\n    </tr>\n  </tbody>\n</table>\n</div>",
      "text/plain": "   apples  oranges\n0       3        0\n1       2        3\n2       0        7\n3       1        2"
     },
     "execution_count": 4,
     "metadata": {},
     "output_type": "execute_result"
    }
   ],
   "source": [
    "purchases = pd.DataFrame(data)\n",
    "purchases"
   ]
  },
  {
   "cell_type": "code",
   "execution_count": 5,
   "metadata": {},
   "outputs": [
    {
     "data": {
      "text/html": "<div>\n<style scoped>\n    .dataframe tbody tr th:only-of-type {\n        vertical-align: middle;\n    }\n\n    .dataframe tbody tr th {\n        vertical-align: top;\n    }\n\n    .dataframe thead th {\n        text-align: right;\n    }\n</style>\n<table border=\"1\" class=\"dataframe\">\n  <thead>\n    <tr style=\"text-align: right;\">\n      <th></th>\n      <th>apples</th>\n      <th>oranges</th>\n    </tr>\n  </thead>\n  <tbody>\n    <tr>\n      <th>June</th>\n      <td>3</td>\n      <td>0</td>\n    </tr>\n    <tr>\n      <th>Robert</th>\n      <td>2</td>\n      <td>3</td>\n    </tr>\n    <tr>\n      <th>Lily</th>\n      <td>0</td>\n      <td>7</td>\n    </tr>\n    <tr>\n      <th>David</th>\n      <td>1</td>\n      <td>2</td>\n    </tr>\n  </tbody>\n</table>\n</div>",
      "text/plain": "        apples  oranges\nJune         3        0\nRobert       2        3\nLily         0        7\nDavid        1        2"
     },
     "execution_count": 5,
     "metadata": {},
     "output_type": "execute_result"
    }
   ],
   "source": [
    "purchases = pd.DataFrame(data, index=['June', 'Robert', 'Lily', 'David'])\n",
    "purchases"
   ]
  },
  {
   "cell_type": "code",
   "execution_count": 7,
   "metadata": {},
   "outputs": [
    {
     "data": {
      "text/plain": "(4, 2)"
     },
     "execution_count": 7,
     "metadata": {},
     "output_type": "execute_result"
    }
   ],
   "source": [
    "purchases.shape"
   ]
  },
  {
   "cell_type": "code",
   "execution_count": 9,
   "metadata": {},
   "outputs": [
    {
     "data": {
      "text/plain": "apples     3\noranges    0\nName: June, dtype: int64"
     },
     "execution_count": 9,
     "metadata": {},
     "output_type": "execute_result"
    }
   ],
   "source": [
    "purchases.loc['June']"
   ]
  },
  {
   "cell_type": "code",
   "execution_count": 10,
   "metadata": {},
   "outputs": [
    {
     "data": {
      "text/html": "<div>\n<style scoped>\n    .dataframe tbody tr th:only-of-type {\n        vertical-align: middle;\n    }\n\n    .dataframe tbody tr th {\n        vertical-align: top;\n    }\n\n    .dataframe thead th {\n        text-align: right;\n    }\n</style>\n<table border=\"1\" class=\"dataframe\">\n  <thead>\n    <tr style=\"text-align: right;\">\n      <th></th>\n      <th>Unnamed: 0</th>\n      <th>apples</th>\n      <th>oranges</th>\n    </tr>\n  </thead>\n  <tbody>\n    <tr>\n      <th>0</th>\n      <td>June</td>\n      <td>3</td>\n      <td>0</td>\n    </tr>\n    <tr>\n      <th>1</th>\n      <td>Robert</td>\n      <td>2</td>\n      <td>3</td>\n    </tr>\n    <tr>\n      <th>2</th>\n      <td>Lily</td>\n      <td>0</td>\n      <td>7</td>\n    </tr>\n    <tr>\n      <th>3</th>\n      <td>David</td>\n      <td>1</td>\n      <td>2</td>\n    </tr>\n  </tbody>\n</table>\n</div>",
      "text/plain": "  Unnamed: 0  apples  oranges\n0       June       3        0\n1     Robert       2        3\n2       Lily       0        7\n3      David       1        2"
     },
     "execution_count": 10,
     "metadata": {},
     "output_type": "execute_result"
    }
   ],
   "source": [
    "df = pd.read_csv('purchases.csv')\n",
    "df"
   ]
  },
  {
   "cell_type": "code",
   "execution_count": 11,
   "metadata": {},
   "outputs": [
    {
     "data": {
      "text/html": "<div>\n<style scoped>\n    .dataframe tbody tr th:only-of-type {\n        vertical-align: middle;\n    }\n\n    .dataframe tbody tr th {\n        vertical-align: top;\n    }\n\n    .dataframe thead th {\n        text-align: right;\n    }\n</style>\n<table border=\"1\" class=\"dataframe\">\n  <thead>\n    <tr style=\"text-align: right;\">\n      <th></th>\n      <th>apples</th>\n      <th>oranges</th>\n    </tr>\n  </thead>\n  <tbody>\n    <tr>\n      <th>June</th>\n      <td>3</td>\n      <td>0</td>\n    </tr>\n    <tr>\n      <th>Robert</th>\n      <td>2</td>\n      <td>3</td>\n    </tr>\n    <tr>\n      <th>Lily</th>\n      <td>0</td>\n      <td>7</td>\n    </tr>\n    <tr>\n      <th>David</th>\n      <td>1</td>\n      <td>2</td>\n    </tr>\n  </tbody>\n</table>\n</div>",
      "text/plain": "        apples  oranges\nJune         3        0\nRobert       2        3\nLily         0        7\nDavid        1        2"
     },
     "execution_count": 11,
     "metadata": {},
     "output_type": "execute_result"
    }
   ],
   "source": [
    "df = pd.read_csv('purchases.csv', index_col=0)\n",
    "df"
   ]
  },
  {
   "cell_type": "code",
   "execution_count": 12,
   "metadata": {},
   "outputs": [
    {
     "data": {
      "text/html": "<div>\n<style scoped>\n    .dataframe tbody tr th:only-of-type {\n        vertical-align: middle;\n    }\n\n    .dataframe tbody tr th {\n        vertical-align: top;\n    }\n\n    .dataframe thead th {\n        text-align: right;\n    }\n</style>\n<table border=\"1\" class=\"dataframe\">\n  <thead>\n    <tr style=\"text-align: right;\">\n      <th></th>\n      <th>apples</th>\n      <th>oranges</th>\n    </tr>\n  </thead>\n  <tbody>\n    <tr>\n      <th>June</th>\n      <td>3</td>\n      <td>0</td>\n    </tr>\n    <tr>\n      <th>Robert</th>\n      <td>2</td>\n      <td>3</td>\n    </tr>\n    <tr>\n      <th>Lily</th>\n      <td>0</td>\n      <td>7</td>\n    </tr>\n    <tr>\n      <th>David</th>\n      <td>1</td>\n      <td>2</td>\n    </tr>\n  </tbody>\n</table>\n</div>",
      "text/plain": "        apples  oranges\nJune         3        0\nRobert       2        3\nLily         0        7\nDavid        1        2"
     },
     "execution_count": 12,
     "metadata": {},
     "output_type": "execute_result"
    }
   ],
   "source": [
    "df = pd.read_json('purchases.json')\n",
    "df"
   ]
  },
  {
   "cell_type": "code",
   "execution_count": 13,
   "metadata": {},
   "outputs": [],
   "source": [
    "import sqlite3\n",
    "con = sqlite3.connect(\"database.db\")\n"
   ]
  },
  {
   "cell_type": "code",
   "execution_count": 15,
   "metadata": {},
   "outputs": [
    {
     "data": {
      "text/html": "<div>\n<style scoped>\n    .dataframe tbody tr th:only-of-type {\n        vertical-align: middle;\n    }\n\n    .dataframe tbody tr th {\n        vertical-align: top;\n    }\n\n    .dataframe thead th {\n        text-align: right;\n    }\n</style>\n<table border=\"1\" class=\"dataframe\">\n  <thead>\n    <tr style=\"text-align: right;\">\n      <th></th>\n      <th>index</th>\n      <th>apples</th>\n      <th>oranges</th>\n    </tr>\n  </thead>\n  <tbody>\n    <tr>\n      <th>0</th>\n      <td>June</td>\n      <td>3</td>\n      <td>0</td>\n    </tr>\n    <tr>\n      <th>1</th>\n      <td>Robert</td>\n      <td>2</td>\n      <td>3</td>\n    </tr>\n    <tr>\n      <th>2</th>\n      <td>Lily</td>\n      <td>0</td>\n      <td>7</td>\n    </tr>\n    <tr>\n      <th>3</th>\n      <td>David</td>\n      <td>1</td>\n      <td>2</td>\n    </tr>\n  </tbody>\n</table>\n</div>",
      "text/plain": "    index  apples  oranges\n0    June       3        0\n1  Robert       2        3\n2    Lily       0        7\n3   David       1        2"
     },
     "execution_count": 15,
     "metadata": {},
     "output_type": "execute_result"
    }
   ],
   "source": [
    "df = pd.read_sql_query(\"SELECT * FROM purchases\", con)\n",
    "df"
   ]
  },
  {
   "cell_type": "code",
   "execution_count": 16,
   "metadata": {},
   "outputs": [
    {
     "data": {
      "text/html": "<div>\n<style scoped>\n    .dataframe tbody tr th:only-of-type {\n        vertical-align: middle;\n    }\n\n    .dataframe tbody tr th {\n        vertical-align: top;\n    }\n\n    .dataframe thead th {\n        text-align: right;\n    }\n</style>\n<table border=\"1\" class=\"dataframe\">\n  <thead>\n    <tr style=\"text-align: right;\">\n      <th></th>\n      <th>apples</th>\n      <th>oranges</th>\n    </tr>\n    <tr>\n      <th>index</th>\n      <th></th>\n      <th></th>\n    </tr>\n  </thead>\n  <tbody>\n    <tr>\n      <th>June</th>\n      <td>3</td>\n      <td>0</td>\n    </tr>\n    <tr>\n      <th>Robert</th>\n      <td>2</td>\n      <td>3</td>\n    </tr>\n    <tr>\n      <th>Lily</th>\n      <td>0</td>\n      <td>7</td>\n    </tr>\n    <tr>\n      <th>David</th>\n      <td>1</td>\n      <td>2</td>\n    </tr>\n  </tbody>\n</table>\n</div>",
      "text/plain": "        apples  oranges\nindex                  \nJune         3        0\nRobert       2        3\nLily         0        7\nDavid        1        2"
     },
     "execution_count": 16,
     "metadata": {},
     "output_type": "execute_result"
    }
   ],
   "source": [
    "df = df.set_index('index')\n",
    "df"
   ]
  },
  {
   "cell_type": "code",
   "execution_count": 17,
   "metadata": {},
   "outputs": [
    {
     "data": {
      "text/html": "<div>\n<style scoped>\n    .dataframe tbody tr th:only-of-type {\n        vertical-align: middle;\n    }\n\n    .dataframe tbody tr th {\n        vertical-align: top;\n    }\n\n    .dataframe thead th {\n        text-align: right;\n    }\n</style>\n<table border=\"1\" class=\"dataframe\">\n  <thead>\n    <tr style=\"text-align: right;\">\n      <th></th>\n      <th>Rank</th>\n      <th>Genre</th>\n      <th>Description</th>\n      <th>Director</th>\n      <th>Actors</th>\n      <th>Year</th>\n      <th>Runtime (Minutes)</th>\n      <th>Rating</th>\n      <th>Votes</th>\n      <th>Revenue (Millions)</th>\n      <th>Metascore</th>\n    </tr>\n    <tr>\n      <th>Title</th>\n      <th></th>\n      <th></th>\n      <th></th>\n      <th></th>\n      <th></th>\n      <th></th>\n      <th></th>\n      <th></th>\n      <th></th>\n      <th></th>\n      <th></th>\n    </tr>\n  </thead>\n  <tbody>\n    <tr>\n      <th>Guardians of the Galaxy</th>\n      <td>1</td>\n      <td>Action,Adventure,Sci-Fi</td>\n      <td>A group of intergalactic criminals are forced ...</td>\n      <td>James Gunn</td>\n      <td>Chris Pratt, Vin Diesel, Bradley Cooper, Zoe S...</td>\n      <td>2014</td>\n      <td>121</td>\n      <td>8.1</td>\n      <td>757074</td>\n      <td>333.13</td>\n      <td>76.0</td>\n    </tr>\n    <tr>\n      <th>Prometheus</th>\n      <td>2</td>\n      <td>Adventure,Mystery,Sci-Fi</td>\n      <td>Following clues to the origin of mankind, a te...</td>\n      <td>Ridley Scott</td>\n      <td>Noomi Rapace, Logan Marshall-Green, Michael Fa...</td>\n      <td>2012</td>\n      <td>124</td>\n      <td>7.0</td>\n      <td>485820</td>\n      <td>126.46</td>\n      <td>65.0</td>\n    </tr>\n    <tr>\n      <th>Split</th>\n      <td>3</td>\n      <td>Horror,Thriller</td>\n      <td>Three girls are kidnapped by a man with a diag...</td>\n      <td>M. Night Shyamalan</td>\n      <td>James McAvoy, Anya Taylor-Joy, Haley Lu Richar...</td>\n      <td>2016</td>\n      <td>117</td>\n      <td>7.3</td>\n      <td>157606</td>\n      <td>138.12</td>\n      <td>62.0</td>\n    </tr>\n    <tr>\n      <th>Sing</th>\n      <td>4</td>\n      <td>Animation,Comedy,Family</td>\n      <td>In a city of humanoid animals, a hustling thea...</td>\n      <td>Christophe Lourdelet</td>\n      <td>Matthew McConaughey,Reese Witherspoon, Seth Ma...</td>\n      <td>2016</td>\n      <td>108</td>\n      <td>7.2</td>\n      <td>60545</td>\n      <td>270.32</td>\n      <td>59.0</td>\n    </tr>\n    <tr>\n      <th>Suicide Squad</th>\n      <td>5</td>\n      <td>Action,Adventure,Fantasy</td>\n      <td>A secret government agency recruits some of th...</td>\n      <td>David Ayer</td>\n      <td>Will Smith, Jared Leto, Margot Robbie, Viola D...</td>\n      <td>2016</td>\n      <td>123</td>\n      <td>6.2</td>\n      <td>393727</td>\n      <td>325.02</td>\n      <td>40.0</td>\n    </tr>\n  </tbody>\n</table>\n</div>",
      "text/plain": "                         Rank                     Genre  \\\nTitle                                                     \nGuardians of the Galaxy     1   Action,Adventure,Sci-Fi   \nPrometheus                  2  Adventure,Mystery,Sci-Fi   \nSplit                       3           Horror,Thriller   \nSing                        4   Animation,Comedy,Family   \nSuicide Squad               5  Action,Adventure,Fantasy   \n\n                                                               Description  \\\nTitle                                                                        \nGuardians of the Galaxy  A group of intergalactic criminals are forced ...   \nPrometheus               Following clues to the origin of mankind, a te...   \nSplit                    Three girls are kidnapped by a man with a diag...   \nSing                     In a city of humanoid animals, a hustling thea...   \nSuicide Squad            A secret government agency recruits some of th...   \n\n                                     Director  \\\nTitle                                           \nGuardians of the Galaxy            James Gunn   \nPrometheus                       Ridley Scott   \nSplit                      M. Night Shyamalan   \nSing                     Christophe Lourdelet   \nSuicide Squad                      David Ayer   \n\n                                                                    Actors  \\\nTitle                                                                        \nGuardians of the Galaxy  Chris Pratt, Vin Diesel, Bradley Cooper, Zoe S...   \nPrometheus               Noomi Rapace, Logan Marshall-Green, Michael Fa...   \nSplit                    James McAvoy, Anya Taylor-Joy, Haley Lu Richar...   \nSing                     Matthew McConaughey,Reese Witherspoon, Seth Ma...   \nSuicide Squad            Will Smith, Jared Leto, Margot Robbie, Viola D...   \n\n                         Year  Runtime (Minutes)  Rating   Votes  \\\nTitle                                                              \nGuardians of the Galaxy  2014                121     8.1  757074   \nPrometheus               2012                124     7.0  485820   \nSplit                    2016                117     7.3  157606   \nSing                     2016                108     7.2   60545   \nSuicide Squad            2016                123     6.2  393727   \n\n                         Revenue (Millions)  Metascore  \nTitle                                                   \nGuardians of the Galaxy              333.13       76.0  \nPrometheus                           126.46       65.0  \nSplit                                138.12       62.0  \nSing                                 270.32       59.0  \nSuicide Squad                        325.02       40.0  "
     },
     "execution_count": 17,
     "metadata": {},
     "output_type": "execute_result"
    }
   ],
   "source": [
    "movies_df = pd.read_csv(\"IMDB-Movie-Data.csv\", index_col=\"Title\")\n",
    "movies_df.head()"
   ]
  },
  {
   "cell_type": "code",
   "execution_count": 18,
   "metadata": {},
   "outputs": [
    {
     "data": {
      "text/html": "<div>\n<style scoped>\n    .dataframe tbody tr th:only-of-type {\n        vertical-align: middle;\n    }\n\n    .dataframe tbody tr th {\n        vertical-align: top;\n    }\n\n    .dataframe thead th {\n        text-align: right;\n    }\n</style>\n<table border=\"1\" class=\"dataframe\">\n  <thead>\n    <tr style=\"text-align: right;\">\n      <th></th>\n      <th>Rank</th>\n      <th>Genre</th>\n      <th>Description</th>\n      <th>Director</th>\n      <th>Actors</th>\n      <th>Year</th>\n      <th>Runtime (Minutes)</th>\n      <th>Rating</th>\n      <th>Votes</th>\n      <th>Revenue (Millions)</th>\n      <th>Metascore</th>\n    </tr>\n    <tr>\n      <th>Title</th>\n      <th></th>\n      <th></th>\n      <th></th>\n      <th></th>\n      <th></th>\n      <th></th>\n      <th></th>\n      <th></th>\n      <th></th>\n      <th></th>\n      <th></th>\n    </tr>\n  </thead>\n  <tbody>\n    <tr>\n      <th>Step Up 2: The Streets</th>\n      <td>998</td>\n      <td>Drama,Music,Romance</td>\n      <td>Romantic sparks occur between two dance studen...</td>\n      <td>Jon M. Chu</td>\n      <td>Robert Hoffman, Briana Evigan, Cassie Ventura,...</td>\n      <td>2008</td>\n      <td>98</td>\n      <td>6.2</td>\n      <td>70699</td>\n      <td>58.01</td>\n      <td>50.0</td>\n    </tr>\n    <tr>\n      <th>Search Party</th>\n      <td>999</td>\n      <td>Adventure,Comedy</td>\n      <td>A pair of friends embark on a mission to reuni...</td>\n      <td>Scot Armstrong</td>\n      <td>Adam Pally, T.J. Miller, Thomas Middleditch,Sh...</td>\n      <td>2014</td>\n      <td>93</td>\n      <td>5.6</td>\n      <td>4881</td>\n      <td>NaN</td>\n      <td>22.0</td>\n    </tr>\n    <tr>\n      <th>Nine Lives</th>\n      <td>1000</td>\n      <td>Comedy,Family,Fantasy</td>\n      <td>A stuffy businessman finds himself trapped ins...</td>\n      <td>Barry Sonnenfeld</td>\n      <td>Kevin Spacey, Jennifer Garner, Robbie Amell,Ch...</td>\n      <td>2016</td>\n      <td>87</td>\n      <td>5.3</td>\n      <td>12435</td>\n      <td>19.64</td>\n      <td>11.0</td>\n    </tr>\n  </tbody>\n</table>\n</div>",
      "text/plain": "                        Rank                  Genre  \\\nTitle                                                 \nStep Up 2: The Streets   998    Drama,Music,Romance   \nSearch Party             999       Adventure,Comedy   \nNine Lives              1000  Comedy,Family,Fantasy   \n\n                                                              Description  \\\nTitle                                                                       \nStep Up 2: The Streets  Romantic sparks occur between two dance studen...   \nSearch Party            A pair of friends embark on a mission to reuni...   \nNine Lives              A stuffy businessman finds himself trapped ins...   \n\n                                Director  \\\nTitle                                      \nStep Up 2: The Streets        Jon M. Chu   \nSearch Party              Scot Armstrong   \nNine Lives              Barry Sonnenfeld   \n\n                                                                   Actors  \\\nTitle                                                                       \nStep Up 2: The Streets  Robert Hoffman, Briana Evigan, Cassie Ventura,...   \nSearch Party            Adam Pally, T.J. Miller, Thomas Middleditch,Sh...   \nNine Lives              Kevin Spacey, Jennifer Garner, Robbie Amell,Ch...   \n\n                        Year  Runtime (Minutes)  Rating  Votes  \\\nTitle                                                            \nStep Up 2: The Streets  2008                 98     6.2  70699   \nSearch Party            2014                 93     5.6   4881   \nNine Lives              2016                 87     5.3  12435   \n\n                        Revenue (Millions)  Metascore  \nTitle                                                  \nStep Up 2: The Streets               58.01       50.0  \nSearch Party                           NaN       22.0  \nNine Lives                           19.64       11.0  "
     },
     "execution_count": 18,
     "metadata": {},
     "output_type": "execute_result"
    }
   ],
   "source": [
    "movies_df.tail(3)"
   ]
  },
  {
   "cell_type": "code",
   "execution_count": 21,
   "metadata": {},
   "outputs": [
    {
     "name": "stdout",
     "output_type": "stream",
     "text": "<class 'pandas.core.frame.DataFrame'>\nIndex: 1000 entries, Guardians of the Galaxy to Nine Lives\nData columns (total 11 columns):\nRank                  1000 non-null int64\nGenre                 1000 non-null object\nDescription           1000 non-null object\nDirector              1000 non-null object\nActors                1000 non-null object\nYear                  1000 non-null int64\nRuntime (Minutes)     1000 non-null int64\nRating                1000 non-null float64\nVotes                 1000 non-null int64\nRevenue (Millions)    872 non-null float64\nMetascore             936 non-null float64\ndtypes: float64(3), int64(4), object(4)\nmemory usage: 133.8+ KB\n"
    }
   ],
   "source": [
    "movies_df.info()"
   ]
  },
  {
   "cell_type": "code",
   "execution_count": 22,
   "metadata": {},
   "outputs": [
    {
     "data": {
      "text/plain": "(1000, 11)"
     },
     "execution_count": 22,
     "metadata": {},
     "output_type": "execute_result"
    }
   ],
   "source": [
    "movies_df.shape"
   ]
  },
  {
   "cell_type": "code",
   "execution_count": 23,
   "metadata": {},
   "outputs": [
    {
     "data": {
      "text/plain": "(2000, 11)"
     },
     "execution_count": 23,
     "metadata": {},
     "output_type": "execute_result"
    }
   ],
   "source": [
    "temp_df = movies_df.append(movies_df)\n",
    "temp_df.shape"
   ]
  },
  {
   "cell_type": "code",
   "execution_count": 26,
   "metadata": {},
   "outputs": [
    {
     "data": {
      "text/plain": "(1000, 11)"
     },
     "execution_count": 26,
     "metadata": {},
     "output_type": "execute_result"
    }
   ],
   "source": [
    "temp_df = temp_df.drop_duplicates()\n",
    "temp_df.shape"
   ]
  },
  {
   "cell_type": "code",
   "execution_count": 27,
   "metadata": {},
   "outputs": [
    {
     "data": {
      "text/plain": "(1000, 11)"
     },
     "execution_count": 27,
     "metadata": {},
     "output_type": "execute_result"
    }
   ],
   "source": [
    "temp_df = movies_df.append(movies_df)\n",
    "temp_df.drop_duplicates(inplace=True)\n",
    "temp_df.shape"
   ]
  },
  {
   "cell_type": "code",
   "execution_count": 28,
   "metadata": {},
   "outputs": [
    {
     "data": {
      "text/plain": "(0, 11)"
     },
     "execution_count": 28,
     "metadata": {},
     "output_type": "execute_result"
    }
   ],
   "source": [
    "temp_df = movies_df.append(movies_df)  # make a new copy\n",
    "temp_df.drop_duplicates(inplace=True, keep=False)\n",
    "temp_df.shape"
   ]
  },
  {
   "cell_type": "code",
   "execution_count": 29,
   "metadata": {},
   "outputs": [
    {
     "data": {
      "text/plain": "Index(['Rank', 'Genre', 'Description', 'Director', 'Actors', 'Year',\n       'Runtime (Minutes)', 'Rating', 'Votes', 'Revenue (Millions)',\n       'Metascore'],\n      dtype='object')"
     },
     "execution_count": 29,
     "metadata": {},
     "output_type": "execute_result"
    }
   ],
   "source": [
    "movies_df.columns"
   ]
  },
  {
   "cell_type": "code",
   "execution_count": 31,
   "metadata": {},
   "outputs": [
    {
     "data": {
      "text/plain": "Index(['Rank', 'Genre', 'Description', 'Director', 'Actors', 'Year', 'Runtime',\n       'Rating', 'Votes', 'Revenue_millions', 'Metascore'],\n      dtype='object')"
     },
     "execution_count": 31,
     "metadata": {},
     "output_type": "execute_result"
    }
   ],
   "source": [
    "movies_df.rename(columns={\n",
    "        'Runtime (Minutes)': 'Runtime', \n",
    "        'Revenue (Millions)': 'Revenue_millions'\n",
    "    }, inplace=True)\n",
    "\n",
    "movies_df.columns"
   ]
  },
  {
   "cell_type": "code",
   "execution_count": 32,
   "metadata": {},
   "outputs": [
    {
     "data": {
      "text/plain": "Index(['rank', 'genre', 'description', 'director', 'actors', 'year', 'runtime',\n       'rating', 'votes', 'revenue_millions', 'metascore'],\n      dtype='object')"
     },
     "execution_count": 32,
     "metadata": {},
     "output_type": "execute_result"
    }
   ],
   "source": [
    "movies_df.columns = ['rank', 'genre', 'description', 'director', 'actors', 'year', 'runtime', \n",
    "                     'rating', 'votes', 'revenue_millions', 'metascore']\n",
    "movies_df.columns"
   ]
  },
  {
   "cell_type": "code",
   "execution_count": 33,
   "metadata": {},
   "outputs": [
    {
     "data": {
      "text/plain": "Index(['rank', 'genre', 'description', 'director', 'actors', 'year', 'runtime',\n       'rating', 'votes', 'revenue_millions', 'metascore'],\n      dtype='object')"
     },
     "execution_count": 33,
     "metadata": {},
     "output_type": "execute_result"
    }
   ],
   "source": [
    "movies_df.columns = [col.lower() for col in movies_df]\n",
    "movies_df.columns\n"
   ]
  },
  {
   "cell_type": "code",
   "execution_count": 34,
   "metadata": {},
   "outputs": [
    {
     "data": {
      "text/html": "<div>\n<style scoped>\n    .dataframe tbody tr th:only-of-type {\n        vertical-align: middle;\n    }\n\n    .dataframe tbody tr th {\n        vertical-align: top;\n    }\n\n    .dataframe thead th {\n        text-align: right;\n    }\n</style>\n<table border=\"1\" class=\"dataframe\">\n  <thead>\n    <tr style=\"text-align: right;\">\n      <th></th>\n      <th>rank</th>\n      <th>genre</th>\n      <th>description</th>\n      <th>director</th>\n      <th>actors</th>\n      <th>year</th>\n      <th>runtime</th>\n      <th>rating</th>\n      <th>votes</th>\n      <th>revenue_millions</th>\n      <th>metascore</th>\n    </tr>\n    <tr>\n      <th>Title</th>\n      <th></th>\n      <th></th>\n      <th></th>\n      <th></th>\n      <th></th>\n      <th></th>\n      <th></th>\n      <th></th>\n      <th></th>\n      <th></th>\n      <th></th>\n    </tr>\n  </thead>\n  <tbody>\n    <tr>\n      <th>Guardians of the Galaxy</th>\n      <td>False</td>\n      <td>False</td>\n      <td>False</td>\n      <td>False</td>\n      <td>False</td>\n      <td>False</td>\n      <td>False</td>\n      <td>False</td>\n      <td>False</td>\n      <td>False</td>\n      <td>False</td>\n    </tr>\n    <tr>\n      <th>Prometheus</th>\n      <td>False</td>\n      <td>False</td>\n      <td>False</td>\n      <td>False</td>\n      <td>False</td>\n      <td>False</td>\n      <td>False</td>\n      <td>False</td>\n      <td>False</td>\n      <td>False</td>\n      <td>False</td>\n    </tr>\n    <tr>\n      <th>Split</th>\n      <td>False</td>\n      <td>False</td>\n      <td>False</td>\n      <td>False</td>\n      <td>False</td>\n      <td>False</td>\n      <td>False</td>\n      <td>False</td>\n      <td>False</td>\n      <td>False</td>\n      <td>False</td>\n    </tr>\n    <tr>\n      <th>Sing</th>\n      <td>False</td>\n      <td>False</td>\n      <td>False</td>\n      <td>False</td>\n      <td>False</td>\n      <td>False</td>\n      <td>False</td>\n      <td>False</td>\n      <td>False</td>\n      <td>False</td>\n      <td>False</td>\n    </tr>\n    <tr>\n      <th>Suicide Squad</th>\n      <td>False</td>\n      <td>False</td>\n      <td>False</td>\n      <td>False</td>\n      <td>False</td>\n      <td>False</td>\n      <td>False</td>\n      <td>False</td>\n      <td>False</td>\n      <td>False</td>\n      <td>False</td>\n    </tr>\n    <tr>\n      <th>...</th>\n      <td>...</td>\n      <td>...</td>\n      <td>...</td>\n      <td>...</td>\n      <td>...</td>\n      <td>...</td>\n      <td>...</td>\n      <td>...</td>\n      <td>...</td>\n      <td>...</td>\n      <td>...</td>\n    </tr>\n    <tr>\n      <th>Secret in Their Eyes</th>\n      <td>False</td>\n      <td>False</td>\n      <td>False</td>\n      <td>False</td>\n      <td>False</td>\n      <td>False</td>\n      <td>False</td>\n      <td>False</td>\n      <td>False</td>\n      <td>True</td>\n      <td>False</td>\n    </tr>\n    <tr>\n      <th>Hostel: Part II</th>\n      <td>False</td>\n      <td>False</td>\n      <td>False</td>\n      <td>False</td>\n      <td>False</td>\n      <td>False</td>\n      <td>False</td>\n      <td>False</td>\n      <td>False</td>\n      <td>False</td>\n      <td>False</td>\n    </tr>\n    <tr>\n      <th>Step Up 2: The Streets</th>\n      <td>False</td>\n      <td>False</td>\n      <td>False</td>\n      <td>False</td>\n      <td>False</td>\n      <td>False</td>\n      <td>False</td>\n      <td>False</td>\n      <td>False</td>\n      <td>False</td>\n      <td>False</td>\n    </tr>\n    <tr>\n      <th>Search Party</th>\n      <td>False</td>\n      <td>False</td>\n      <td>False</td>\n      <td>False</td>\n      <td>False</td>\n      <td>False</td>\n      <td>False</td>\n      <td>False</td>\n      <td>False</td>\n      <td>True</td>\n      <td>False</td>\n    </tr>\n    <tr>\n      <th>Nine Lives</th>\n      <td>False</td>\n      <td>False</td>\n      <td>False</td>\n      <td>False</td>\n      <td>False</td>\n      <td>False</td>\n      <td>False</td>\n      <td>False</td>\n      <td>False</td>\n      <td>False</td>\n      <td>False</td>\n    </tr>\n  </tbody>\n</table>\n<p>1000 rows × 11 columns</p>\n</div>",
      "text/plain": "                          rank  genre  description  director  actors   year  \\\nTitle                                                                         \nGuardians of the Galaxy  False  False        False     False   False  False   \nPrometheus               False  False        False     False   False  False   \nSplit                    False  False        False     False   False  False   \nSing                     False  False        False     False   False  False   \nSuicide Squad            False  False        False     False   False  False   \n...                        ...    ...          ...       ...     ...    ...   \nSecret in Their Eyes     False  False        False     False   False  False   \nHostel: Part II          False  False        False     False   False  False   \nStep Up 2: The Streets   False  False        False     False   False  False   \nSearch Party             False  False        False     False   False  False   \nNine Lives               False  False        False     False   False  False   \n\n                         runtime  rating  votes  revenue_millions  metascore  \nTitle                                                                         \nGuardians of the Galaxy    False   False  False             False      False  \nPrometheus                 False   False  False             False      False  \nSplit                      False   False  False             False      False  \nSing                       False   False  False             False      False  \nSuicide Squad              False   False  False             False      False  \n...                          ...     ...    ...               ...        ...  \nSecret in Their Eyes       False   False  False              True      False  \nHostel: Part II            False   False  False             False      False  \nStep Up 2: The Streets     False   False  False             False      False  \nSearch Party               False   False  False              True      False  \nNine Lives                 False   False  False             False      False  \n\n[1000 rows x 11 columns]"
     },
     "execution_count": 34,
     "metadata": {},
     "output_type": "execute_result"
    }
   ],
   "source": [
    "movies_df.isnull()"
   ]
  },
  {
   "cell_type": "code",
   "execution_count": 35,
   "metadata": {},
   "outputs": [
    {
     "data": {
      "text/plain": "rank                  0\ngenre                 0\ndescription           0\ndirector              0\nactors                0\nyear                  0\nruntime               0\nrating                0\nvotes                 0\nrevenue_millions    128\nmetascore            64\ndtype: int64"
     },
     "execution_count": 35,
     "metadata": {},
     "output_type": "execute_result"
    }
   ],
   "source": [
    "movies_df.isnull().sum()"
   ]
  },
  {
   "cell_type": "code",
   "execution_count": 37,
   "metadata": {},
   "outputs": [
    {
     "data": {
      "text/plain": "Title\nGuardians of the Galaxy    333.13\nPrometheus                 126.46\nSplit                      138.12\nSing                       270.32\nSuicide Squad              325.02\n                            ...  \nSecret in Their Eyes          NaN\nHostel: Part II             17.54\nStep Up 2: The Streets      58.01\nSearch Party                  NaN\nNine Lives                  19.64\nName: revenue_millions, Length: 1000, dtype: float64"
     },
     "execution_count": 37,
     "metadata": {},
     "output_type": "execute_result"
    }
   ],
   "source": [
    "revenue = movies_df['revenue_millions']\n",
    "revenue"
   ]
  },
  {
   "cell_type": "code",
   "execution_count": 39,
   "metadata": {},
   "outputs": [
    {
     "data": {
      "text/html": "<div>\n<style scoped>\n    .dataframe tbody tr th:only-of-type {\n        vertical-align: middle;\n    }\n\n    .dataframe tbody tr th {\n        vertical-align: top;\n    }\n\n    .dataframe thead th {\n        text-align: right;\n    }\n</style>\n<table border=\"1\" class=\"dataframe\">\n  <thead>\n    <tr style=\"text-align: right;\">\n      <th></th>\n      <th>rank</th>\n      <th>genre</th>\n      <th>description</th>\n      <th>director</th>\n      <th>actors</th>\n      <th>year</th>\n      <th>runtime</th>\n      <th>rating</th>\n      <th>votes</th>\n    </tr>\n    <tr>\n      <th>Title</th>\n      <th></th>\n      <th></th>\n      <th></th>\n      <th></th>\n      <th></th>\n      <th></th>\n      <th></th>\n      <th></th>\n      <th></th>\n    </tr>\n  </thead>\n  <tbody>\n    <tr>\n      <th>Guardians of the Galaxy</th>\n      <td>1</td>\n      <td>Action,Adventure,Sci-Fi</td>\n      <td>A group of intergalactic criminals are forced ...</td>\n      <td>James Gunn</td>\n      <td>Chris Pratt, Vin Diesel, Bradley Cooper, Zoe S...</td>\n      <td>2014</td>\n      <td>121</td>\n      <td>8.1</td>\n      <td>757074</td>\n    </tr>\n    <tr>\n      <th>Prometheus</th>\n      <td>2</td>\n      <td>Adventure,Mystery,Sci-Fi</td>\n      <td>Following clues to the origin of mankind, a te...</td>\n      <td>Ridley Scott</td>\n      <td>Noomi Rapace, Logan Marshall-Green, Michael Fa...</td>\n      <td>2012</td>\n      <td>124</td>\n      <td>7.0</td>\n      <td>485820</td>\n    </tr>\n    <tr>\n      <th>Split</th>\n      <td>3</td>\n      <td>Horror,Thriller</td>\n      <td>Three girls are kidnapped by a man with a diag...</td>\n      <td>M. Night Shyamalan</td>\n      <td>James McAvoy, Anya Taylor-Joy, Haley Lu Richar...</td>\n      <td>2016</td>\n      <td>117</td>\n      <td>7.3</td>\n      <td>157606</td>\n    </tr>\n    <tr>\n      <th>Sing</th>\n      <td>4</td>\n      <td>Animation,Comedy,Family</td>\n      <td>In a city of humanoid animals, a hustling thea...</td>\n      <td>Christophe Lourdelet</td>\n      <td>Matthew McConaughey,Reese Witherspoon, Seth Ma...</td>\n      <td>2016</td>\n      <td>108</td>\n      <td>7.2</td>\n      <td>60545</td>\n    </tr>\n    <tr>\n      <th>Suicide Squad</th>\n      <td>5</td>\n      <td>Action,Adventure,Fantasy</td>\n      <td>A secret government agency recruits some of th...</td>\n      <td>David Ayer</td>\n      <td>Will Smith, Jared Leto, Margot Robbie, Viola D...</td>\n      <td>2016</td>\n      <td>123</td>\n      <td>6.2</td>\n      <td>393727</td>\n    </tr>\n    <tr>\n      <th>...</th>\n      <td>...</td>\n      <td>...</td>\n      <td>...</td>\n      <td>...</td>\n      <td>...</td>\n      <td>...</td>\n      <td>...</td>\n      <td>...</td>\n      <td>...</td>\n    </tr>\n    <tr>\n      <th>Secret in Their Eyes</th>\n      <td>996</td>\n      <td>Crime,Drama,Mystery</td>\n      <td>A tight-knit team of rising investigators, alo...</td>\n      <td>Billy Ray</td>\n      <td>Chiwetel Ejiofor, Nicole Kidman, Julia Roberts...</td>\n      <td>2015</td>\n      <td>111</td>\n      <td>6.2</td>\n      <td>27585</td>\n    </tr>\n    <tr>\n      <th>Hostel: Part II</th>\n      <td>997</td>\n      <td>Horror</td>\n      <td>Three American college students studying abroa...</td>\n      <td>Eli Roth</td>\n      <td>Lauren German, Heather Matarazzo, Bijou Philli...</td>\n      <td>2007</td>\n      <td>94</td>\n      <td>5.5</td>\n      <td>73152</td>\n    </tr>\n    <tr>\n      <th>Step Up 2: The Streets</th>\n      <td>998</td>\n      <td>Drama,Music,Romance</td>\n      <td>Romantic sparks occur between two dance studen...</td>\n      <td>Jon M. Chu</td>\n      <td>Robert Hoffman, Briana Evigan, Cassie Ventura,...</td>\n      <td>2008</td>\n      <td>98</td>\n      <td>6.2</td>\n      <td>70699</td>\n    </tr>\n    <tr>\n      <th>Search Party</th>\n      <td>999</td>\n      <td>Adventure,Comedy</td>\n      <td>A pair of friends embark on a mission to reuni...</td>\n      <td>Scot Armstrong</td>\n      <td>Adam Pally, T.J. Miller, Thomas Middleditch,Sh...</td>\n      <td>2014</td>\n      <td>93</td>\n      <td>5.6</td>\n      <td>4881</td>\n    </tr>\n    <tr>\n      <th>Nine Lives</th>\n      <td>1000</td>\n      <td>Comedy,Family,Fantasy</td>\n      <td>A stuffy businessman finds himself trapped ins...</td>\n      <td>Barry Sonnenfeld</td>\n      <td>Kevin Spacey, Jennifer Garner, Robbie Amell,Ch...</td>\n      <td>2016</td>\n      <td>87</td>\n      <td>5.3</td>\n      <td>12435</td>\n    </tr>\n  </tbody>\n</table>\n<p>1000 rows × 9 columns</p>\n</div>",
      "text/plain": "                         rank                     genre  \\\nTitle                                                     \nGuardians of the Galaxy     1   Action,Adventure,Sci-Fi   \nPrometheus                  2  Adventure,Mystery,Sci-Fi   \nSplit                       3           Horror,Thriller   \nSing                        4   Animation,Comedy,Family   \nSuicide Squad               5  Action,Adventure,Fantasy   \n...                       ...                       ...   \nSecret in Their Eyes      996       Crime,Drama,Mystery   \nHostel: Part II           997                    Horror   \nStep Up 2: The Streets    998       Drama,Music,Romance   \nSearch Party              999          Adventure,Comedy   \nNine Lives               1000     Comedy,Family,Fantasy   \n\n                                                               description  \\\nTitle                                                                        \nGuardians of the Galaxy  A group of intergalactic criminals are forced ...   \nPrometheus               Following clues to the origin of mankind, a te...   \nSplit                    Three girls are kidnapped by a man with a diag...   \nSing                     In a city of humanoid animals, a hustling thea...   \nSuicide Squad            A secret government agency recruits some of th...   \n...                                                                    ...   \nSecret in Their Eyes     A tight-knit team of rising investigators, alo...   \nHostel: Part II          Three American college students studying abroa...   \nStep Up 2: The Streets   Romantic sparks occur between two dance studen...   \nSearch Party             A pair of friends embark on a mission to reuni...   \nNine Lives               A stuffy businessman finds himself trapped ins...   \n\n                                     director  \\\nTitle                                           \nGuardians of the Galaxy            James Gunn   \nPrometheus                       Ridley Scott   \nSplit                      M. Night Shyamalan   \nSing                     Christophe Lourdelet   \nSuicide Squad                      David Ayer   \n...                                       ...   \nSecret in Their Eyes                Billy Ray   \nHostel: Part II                      Eli Roth   \nStep Up 2: The Streets             Jon M. Chu   \nSearch Party                   Scot Armstrong   \nNine Lives                   Barry Sonnenfeld   \n\n                                                                    actors  \\\nTitle                                                                        \nGuardians of the Galaxy  Chris Pratt, Vin Diesel, Bradley Cooper, Zoe S...   \nPrometheus               Noomi Rapace, Logan Marshall-Green, Michael Fa...   \nSplit                    James McAvoy, Anya Taylor-Joy, Haley Lu Richar...   \nSing                     Matthew McConaughey,Reese Witherspoon, Seth Ma...   \nSuicide Squad            Will Smith, Jared Leto, Margot Robbie, Viola D...   \n...                                                                    ...   \nSecret in Their Eyes     Chiwetel Ejiofor, Nicole Kidman, Julia Roberts...   \nHostel: Part II          Lauren German, Heather Matarazzo, Bijou Philli...   \nStep Up 2: The Streets   Robert Hoffman, Briana Evigan, Cassie Ventura,...   \nSearch Party             Adam Pally, T.J. Miller, Thomas Middleditch,Sh...   \nNine Lives               Kevin Spacey, Jennifer Garner, Robbie Amell,Ch...   \n\n                         year  runtime  rating   votes  \nTitle                                                   \nGuardians of the Galaxy  2014      121     8.1  757074  \nPrometheus               2012      124     7.0  485820  \nSplit                    2016      117     7.3  157606  \nSing                     2016      108     7.2   60545  \nSuicide Squad            2016      123     6.2  393727  \n...                       ...      ...     ...     ...  \nSecret in Their Eyes     2015      111     6.2   27585  \nHostel: Part II          2007       94     5.5   73152  \nStep Up 2: The Streets   2008       98     6.2   70699  \nSearch Party             2014       93     5.6    4881  \nNine Lives               2016       87     5.3   12435  \n\n[1000 rows x 9 columns]"
     },
     "execution_count": 39,
     "metadata": {},
     "output_type": "execute_result"
    }
   ],
   "source": [
    "movies_df.dropna(axis=1)"
   ]
  },
  {
   "cell_type": "code",
   "execution_count": 40,
   "metadata": {},
   "outputs": [
    {
     "data": {
      "text/plain": "Title\nGuardians of the Galaxy    333.13\nPrometheus                 126.46\nSplit                      138.12\nSing                       270.32\nSuicide Squad              325.02\n                            ...  \nSecret in Their Eyes          NaN\nHostel: Part II             17.54\nStep Up 2: The Streets      58.01\nSearch Party                  NaN\nNine Lives                  19.64\nName: revenue_millions, Length: 1000, dtype: float64"
     },
     "execution_count": 40,
     "metadata": {},
     "output_type": "execute_result"
    }
   ],
   "source": [
    "revenue = movies_df['revenue_millions']\n",
    "revenue"
   ]
  },
  {
   "cell_type": "code",
   "execution_count": 41,
   "metadata": {},
   "outputs": [
    {
     "data": {
      "text/plain": "Title\nGuardians of the Galaxy     333.13\nPrometheus                  126.46\nSplit                       138.12\nSing                        270.32\nSuicide Squad               325.02\n                             ...  \nResident Evil: Afterlife     60.13\nProject X                    54.72\nHostel: Part II              17.54\nStep Up 2: The Streets       58.01\nNine Lives                   19.64\nName: revenue_millions, Length: 838, dtype: float64"
     },
     "execution_count": 41,
     "metadata": {},
     "output_type": "execute_result"
    }
   ],
   "source": [
    "movies_df.dropna()['revenue_millions']\n"
   ]
  },
  {
   "cell_type": "code",
   "execution_count": null,
   "metadata": {},
   "outputs": [],
   "source": []
  }
 ]
}